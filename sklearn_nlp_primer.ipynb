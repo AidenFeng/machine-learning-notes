{
 "cells": [
  {
   "cell_type": "markdown",
   "metadata": {},
   "source": [
    "# Sklearn and Natural Language Processing"
   ]
  },
  {
   "cell_type": "markdown",
   "metadata": {},
   "source": [
    "## 1. Sklearn\n",
    "[Scikit-learn](https://scikit-learn.org/stable/) is one of the most common general-purpose machine learning libraries (as opposed to more specialized deep learning libraries such as Tensorflow or Pytorch). An advantage of sklearn is that it offers an API for many common machine learning techniques and data processing procedures, in a fairly unified interface.\n",
    "\n",
    "Here is an example of running a linear regression model by sklearn. Note that we don't specify the number of training iterations here because the `LinearRegression` class in sklearn does not use gradient descent:"
   ]
  },
  {
   "cell_type": "code",
   "execution_count": 4,
   "metadata": {},
   "outputs": [
    {
     "name": "stdout",
     "output_type": "stream",
     "text": [
      "[ 0.81913824 -3.57303143] -4.500000000000001\n",
      "[-10.82692463 -16.33471102 -21.8424974 ]\n"
     ]
    }
   ],
   "source": [
    "import numpy as np\n",
    "from sklearn.linear_model import LinearRegression\n",
    "from sklearn.preprocessing import StandardScaler\n",
    "\n",
    "# input data\n",
    "X = np.array([[0.9, 1.9], [1.95, 1.8], [1.85, 0.45], [1.3, 1.55], [1.9, 1.25]])\n",
    "y = np.array([-9.5, -6.8,  2.3, -5.9, -2.6])\n",
    "\n",
    "# init model with hyperparams\n",
    "model = LinearRegression(fit_intercept = True, normalize = False)\n",
    "\n",
    "# scale the data\n",
    "scaler = StandardScaler()\n",
    "scaler.fit(X)\n",
    "X_normalized = scaler.transform(X)\n",
    "\n",
    "# train the model\n",
    "model.fit(X_normalized, y)\n",
    "\n",
    "# get the model's weight vector and intercept\n",
    "print(model.coef_, model.intercept_)\n",
    "\n",
    "# predict new data point\n",
    "X_new = np.array([[1, 2], [3, 4], [5, 6]])\n",
    "print(model.predict(X_new))"
   ]
  },
  {
   "cell_type": "markdown",
   "metadata": {},
   "source": [
    "The sklearn interface is very intuitive to learn, and you can typically see detailed examples in the API page. The typical workflow consists of:\n",
    "\n",
    "1. Initialize a model with hyperparameters.\n",
    "1. Call `.fit` on the training data.\n",
    "1. Call `.predict` or `transform` on the training or testing data."
   ]
  },
  {
   "cell_type": "markdown",
   "metadata": {},
   "source": [
    "While `sklearn` is generally a good library to include in any machine learning project, there are two important caveats to keep in mind:\n",
    "\n",
    "1. Sklearn can be reasonably fast for small to medium-sized datasets ($n \\approx 10000, d \\approx 1000$), but will be slow for larger datasets. Also the library does not support GPU, although you can sometimes specify the `n_jobs` parameter to use more jobs for the computation.\n",
    "1. Even simple machine learning methods such as logistic regression can have [many hyperparameters](https://scikit-learn.org/stable/modules/generated/sklearn.linear_model.LogisticRegression.html) in sklearn. This is, of course, a good feature of sklearn that provides the user with more flexiblity. Howerver, this also means you need a good understanding of these hyperparameters to select those best suited for your dataset. Simply setting all these hyperparameters to their default values does not demonstrate the true utility of sklearn."
   ]
  },
  {
   "cell_type": "markdown",
   "metadata": {},
   "source": [
    "## 2. Introduction to Topic Modelling\n",
    "\n",
    "Topic modeling is a machine learning technique that automatically analyzes text data to uncovering hidden structure in a collection of texts. This is known as unsupervised learning because it doesn’t require a predefined list of tags or training data that’s been previously classified by humans.\n",
    "\n",
    "There are several existing algorithms you can use to perform the topic modeling. The most common of it are, [Latent Semantic Analysis](https://en.wikipedia.org/wiki/Latent_semantic_analysis) (LSA/LSI), [Probabilistic Latent Semantic Analysis](https://en.wikipedia.org/wiki/Probabilistic_latent_semantic_analysis) (pLSA), and [Latent Dirichlet Allocation](https://en.wikipedia.org/wiki/Latent_Dirichlet_allocation) (LDA). In this primer, we will focus on how LDA can be done in sklearn."
   ]
  },
  {
   "cell_type": "markdown",
   "metadata": {},
   "source": [
    "### 2.1. Feature construction\n",
    "\n",
    "There are several ways to construct features from text data. A simple direction, as you have seen in Project 3, is to make use of frequency-based features, by constructing a term-frequency (TF) matrix or a term frequency - inverse document frequency (TF-IDF) matrix. These two methods are supported by sklearn's [CountVectorizer](https://scikit-learn.org/stable/modules/generated/sklearn.feature_extraction.text.CountVectorizer.html) and [TfidfVectorizer](https://scikit-learn.org/stable/modules/generated/sklearn.feature_extraction.text.TfidfVectorizer.html) respectively. These have fairly similar interfaces, which include the following parameters of interest:\n",
    "\n",
    "* `stop_words`: `english` or `None`. If `english`, a built-in stop word list for English is used.\n",
    "* `max_df`: when building the vocabulary ignore terms that have a document frequency strictly higher than the given threshold.\n",
    "* `min_df`: When building the vocabulary ignore terms that have a document frequency strictly lower than the given threshold. \n",
    "* `max_features`: build a vocabulary that only consider the top max_features ordered by term frequency across the corpus.\n",
    "* `ngram_range`: the lower and upper boundary of the range of n-values for different n-grams to be extracted.\n",
    "* `vocabulary`: either a Mapping (e.g., a `dict`) where keys are terms and values are indices in the feature matrix, or an iterable over terms. If not given, a vocabulary is determined from the input documents."
   ]
  },
  {
   "cell_type": "code",
   "execution_count": 7,
   "metadata": {},
   "outputs": [],
   "source": [
    "from sklearn.datasets import fetch_20newsgroups\n",
    "from sklearn.feature_extraction.text import TfidfVectorizer, CountVectorizer"
   ]
  },
  {
   "cell_type": "code",
   "execution_count": 8,
   "metadata": {},
   "outputs": [],
   "source": [
    "data = fetch_20newsgroups(shuffle=True, random_state=0,\n",
    "                          remove=('headers', 'footers', 'quotes')).data[:200]\n",
    "tf_vectorizer = CountVectorizer(stop_words='english',max_features=100)\n",
    "tf = tf_vectorizer.fit_transform(data)"
   ]
  },
  {
   "cell_type": "code",
   "execution_count": 9,
   "metadata": {},
   "outputs": [
    {
     "data": {
      "text/plain": [
       "['\\n\\nKoberg,\\n\\n\\tJust a couple of minor corrections here...\\n\\n\\t1)  The Churches of Christ do not usually believe in speaking in\\ntongues, in fact many of them are known for being strongly opposed to\\nPentecostal teaching.  You are probably thinking of Church of God in\\nChrist, the largest African-American Pentecostal denomination.\\n\\n\\t2)  I\\'m not sure what you mean by \"signifying believers\"  but it\\nshould be pointed out that the Assemblies of God does not now, nor has it\\never, held that speaking in tongues is the sign that one is a Christian. \\nThe doctrine that traditional Pentecostals (including the A/G) maintain is\\nthat speaking in tongues is the sign of a second experience after becoming\\na Christian in which one is \"Baptized in the Holy Spirit\"  That may be\\nwhat you were referring to, but I point this out because Pentecostals are\\nfrequently labeled as believing that you have to speak in tongues in order\\nto be a Christian.  Such a position is only held by some groups and not the\\nmajority of Pentecostals.   Many Pentecostals will quote the passage in\\nMark 16 about \"these signs following them that believe\" but they generally\\ndo not interpret this as meaning if you don\\'t pactice the signs you aren\\'t\\n\"saved\".\\n\\n\\t3)  I know it\\'s hard to summarize the beliefs of a movement that\\nhas such diversity, but I think you\\'ve made some pretty big\\ngeneralizations here.  Do \"Neo-Pentecostals\" only believe in tongues as a\\nsign and tongues as prayer but NOT tongues as revelatory with a message? \\nI\\'ve never heard of that before.  In fact I would have characterized them\\nas believing the same as Pentecostals except less likely to see tongues as\\na sign of Spirit Baptism.  Also, while neo-Pentecostals may not be\\ninclined to speak in tongues in the non-Pentecostal churches they attend,\\nthey do have their own meetings and, in many cases, a whole church will be\\ncharismatic.',\n",
       " 'Heres a story of a Saint that people might like to read. I got it from\\na The Morning Star, and am posting it with the permission of the\\neditor.\\n\\n\\n    Saint Aloysius Gonzaga\\n\\n    The Patron of Youth\\n\\n\\n    The marquis Gonzaga had high aspirations for his son, the  Prince\\n    Gonzage.  He  wanted  him  to become a famous, brave and honoured\\n    soldier. After all, he must carry on the  great  family  name  of\\n    Gonzaga.  Of  course, he was to become far more famous, brave and\\n    honoured than his father could ever have imagined; though not  in\\n    the manner expected.\\n\\n    Saint Aloysius\\' mother was a woman who received immense joy  from\\n    praying  to  God  and  meditating on the divine mysteries and the\\n    life of Our Lord. She had little time for the pleasures  of  this\\n    life.  As  Saint  Aloysius\\tgrew, he began to resemble his mother\\n    more than his father.\\n\\n    Saint Aloysius had learned numerous expressions from his father\\'s\\n    soldiers,  but the moment he discovered that they were vulgar, he\\n    fainted from shock. This shows his immense hatred of sin (What an\\n    example for us of the contempt we must have for sin).\\n\\n    About the time of his First Holy  Communion  (which  he  received\\n    from  the  Archbishop  of  Milan,  Charles Borromeo, whom himself\\n    became a great Saint), he con-secrated  his  purity  to  God  and\\n    asked the Blessed Virgin to protect his innocence for life.\\n\\n    He wanted to share Our Lord\\'s suffering to\\tshow  his  reciprocal\\n    love.  He  started by denying his passions; he avoided eating the\\n    finest foods, wearing the best clothes, and would put  pieces  of\\n    wood  in his bed in order to mortify himself for the love of God.\\n    While he was in his early teens his  father  sent  him  (and  his\\n    younger  brother)  to  the court of the Spanish King, Phillip 11.\\n    Obediently, he set out to make the best of it. He mixed  in  well\\n    with  the people of the royal court, for he was handsome, polite,\\n    intelligent and always had something interesting to say.\\n\\n\\n    Not long before this time, the great soldier-saint,  Saint\\tIgna-\\n    tius  of  Loyola,  had founded the Society of Jesus (the Jesuits)\\n    towards which Saint Aloysius\\n\\n\\n\\t\\t\\t\\t  -12-\\n\\n\\n\\n\\n\\n\\n\\n    began to have a yearning. When he finally told  his  father,  the\\n    marquis flew into a rage and forbade his son to become a priest.\\n\\n    After a short time, his father sent him to the  great  cities  in\\n    order that he be tempted away from the priesthood, but even\\n\\n    through these trials, Saint Aloysius grew in his desire  for  the\\n    religious life and was strengthened in the virtue of purity.\\n\\n    The Marquis\\' plans were obviously failing, so he con-fronted  his\\n    son:  \"Will  you or will you not obey me and forget this foolish-\\n    ness?\" \"I will not, father,\" was the  in-evitable  reply.\\t\"Then\\n    leave from my sight and don\\'t return until you change your mind!\"\\n    With tears clouding his eyes, the Saint left the  room  to\\tpray:\\n    \"Tell  me Lord, what am I to do? Tell me! Tell me!\" He knelt down\\n    to flagellate himself as he had done several  times  before,  but\\n    this  time\\the was seen. The onlooker rushed to the marquis. This\\n    at last brought the proud man to his senses. \"The Lord wants him,\\n    the Lord can have him.\" He gave his consent for his son to become\\n    a Jesuit.\\n\\n    After some years (at the end of the sixteenth century), a  terri-\\n    ble  epidemic  broke out in Rome. All the hospitals were full and\\n    could house no more, so the Jesuits opened their own. Saint Aloy-\\n    sius  did  all he could in the hospitals, particularly to prepare\\n    the dying for a holy death.\\n\\n    Saint Aloysius himself contracted the plague  from\\tcarrying  and\\n    nursing  the  sick.  For three months he lay with a burning fever\\n    and finally, on June 21st, 1591, he gave his  soul\\tto  the  Lord\\n    while gazing at a crucifix.\\n\\n    Let us invoke Saint Aloysius as our patron and imitate him in his\\n    humility, purity and confidence in prayer.\\n\\n    Saint Aloysius Gonzaga, pray for us.\\n\\n    - Brendan Arthur\\n\\n\\n\\n\\n\\n\\n    Prayer is as necessary to a person consecrated to the service  of\\n    others as a sword is to a soldier\\n\\nGod Bless\\n\\nFrom Simon\\nLines:  106',\n",
       " '\\n\\nExperimental Lyme Disease in Dogs Produces Arthritis and Persistant Infection,\\nThe Journal of Infectious Diseases, March 1993, 167:651-664\\n',\n",
       " 'Ok, it seems that everyone else in canada was treated to the \\nREAL ABC telecast while only the people on ROGERS TV in Surrey BC \\nwere treated to two channels with Don \"I stink as a Commentator\" Whitman\\ndoing the play-by-play.',\n",
       " 'I AM Satan!\\n\\n']"
      ]
     },
     "execution_count": 9,
     "metadata": {},
     "output_type": "execute_result"
    }
   ],
   "source": [
    "# Sample data\n",
    "data[:5]"
   ]
  },
  {
   "cell_type": "markdown",
   "metadata": {},
   "source": [
    "### 2.2. Model training\n",
    "For an intuitive explanation of LDA, see [this article](https://towardsdatascience.com/light-on-math-machine-learning-intuitive-guide-to-latent-dirichlet-allocation-437c81220158). In creating an LDA model, we can specify many parameters, for instance:\n",
    "* `n_components`: the number of topics you want to find in the data\n",
    "* `learning_method`: method used to update the model components, either `batch` or `online`.\n",
    "* `random_state`: the seed for random generator  \n",
    "* `batch_size` : the number of documents to use in each EM iteration."
   ]
  },
  {
   "cell_type": "code",
   "execution_count": 10,
   "metadata": {},
   "outputs": [],
   "source": [
    "from sklearn.decomposition import LatentDirichletAllocation"
   ]
  },
  {
   "cell_type": "code",
   "execution_count": 11,
   "metadata": {},
   "outputs": [
    {
     "data": {
      "text/plain": [
       "LatentDirichletAllocation(batch_size=128, doc_topic_prior=None,\n",
       "                          evaluate_every=-1, learning_decay=0.7,\n",
       "                          learning_method='online', learning_offset=10.0,\n",
       "                          max_doc_update_iter=100, max_iter=10,\n",
       "                          mean_change_tol=0.001, n_components=10, n_jobs=None,\n",
       "                          perp_tol=0.1, random_state=0, topic_word_prior=None,\n",
       "                          total_samples=1000000.0, verbose=0)"
      ]
     },
     "execution_count": 11,
     "metadata": {},
     "output_type": "execute_result"
    }
   ],
   "source": [
    "lda = LatentDirichletAllocation(n_components=10, learning_method='online', random_state=0)\n",
    "lda.fit(tf)"
   ]
  },
  {
   "cell_type": "markdown",
   "metadata": {},
   "source": [
    "The fitting procedure determines the word distribution of every topic; this information is stored in the `components_` attribute. However, there is a catch: we actually have to normalize to get the probability distributions (without this normalization, the model only contains pseudocounts for how often different words appear per topic)."
   ]
  },
  {
   "cell_type": "code",
   "execution_count": 12,
   "metadata": {},
   "outputs": [
    {
     "data": {
      "text/plain": [
       "(10, 100)"
      ]
     },
     "execution_count": 12,
     "metadata": {},
     "output_type": "execute_result"
    }
   ],
   "source": [
    "lda.components_.shape"
   ]
  },
  {
   "cell_type": "code",
   "execution_count": 13,
   "metadata": {},
   "outputs": [
    {
     "data": {
      "text/plain": [
       "array([  27.70422683,   16.42671524,   93.6316962 , 1605.13052239,\n",
       "         86.13103181,   18.65842836,  891.84392143, 4809.54908248,\n",
       "       1069.71642777,   27.97202201])"
      ]
     },
     "execution_count": 13,
     "metadata": {},
     "output_type": "execute_result"
    }
   ],
   "source": [
    "lda.components_.sum(axis=1)"
   ]
  },
  {
   "cell_type": "code",
   "execution_count": 14,
   "metadata": {},
   "outputs": [
    {
     "name": "stdout",
     "output_type": "stream",
     "text": [
      "['04', '0d', '145', '17', '1d9', '1t', '24', '2di', '2tm', '34u', '3t', '6ei', '6um', '75u', '7ey', '86', 'a86', 'available', 'ax', 'b8f', 'based', 'bhj', 'bn', 'c_', 'chz', 'ck', 'com', 'contrib', 'cx', 'd9', 'did', 'didn', 'does', 'don', 'edu', 'export', 'ftp', 'g9v', 'giz', 'going', 'good', 'government', 'help', 'hz', 'includes', 'information', 'just', 'k8', 'karina', 'know', 'like', 'list', 'lk', 'll', 'look', 'm6', 'max', 'motif', 'mv', 'need', 'new', 'number', 'people', 'pl', 'pub', 'ql', 'r6', 'really', 'right', 'rlk', 's6', 'said', 'say', 'sc_', 'scx', 'server', 'set', 'sp', 'sq', 'subject', 'sun', 'support', 't7', 'tar', 'think', 'time', 'tm', 'ub', 'use', 've', 'version', 'w1', 'w7', 'way', 'went', 'widget', 'window', 'wm', 'x_s', 'y_']\n"
     ]
    }
   ],
   "source": [
    "print(tf_vectorizer.get_feature_names())"
   ]
  },
  {
   "cell_type": "markdown",
   "metadata": {},
   "source": [
    "## 3. Word2Vec Embeddings\n",
    "### 3.1. Using Gensim model\n",
    "Word2Vec is a group of related models that are used to produce word embeddings. These models are shallow, two-layer neural networks that are trained to reconstruct linguistic contexts of words. From this, it is possible to compute the words that are most similar to each other based on a simialrity coefficient. The Word2Vec embedding can be instantiated using the `gensim` package. \n",
    "\n",
    "To create a `gensim` model, we can use `gensim.model.Word2Vec()` and provide the appropriate parameters, along with a text corpus (nested list of tokens):"
   ]
  },
  {
   "cell_type": "code",
   "execution_count": 19,
   "metadata": {},
   "outputs": [],
   "source": [
    "import gensim\n",
    "\n",
    "corpus =[['one', 'reviewers', 'mentioned', 'would', 'great', 'project'],\n",
    " ['good', 'live'],\n",
    " ['love', 'comes', 'anything', 'else', 'world']]\n",
    "model = gensim.models.Word2Vec(sentences=corpus,size=100,window=5,workers=4,min_count=1)"
   ]
  },
  {
   "cell_type": "markdown",
   "metadata": {},
   "source": [
    "We can use the model to retrieve all vocab words using model.wv.vocab. Some other associated functions that can be used with model include vectors, vector_size, and vectors_norm, most_similar."
   ]
  },
  {
   "cell_type": "code",
   "execution_count": 20,
   "metadata": {},
   "outputs": [
    {
     "data": {
      "text/plain": [
       "{'one': <gensim.models.keyedvectors.Vocab at 0x1a25b8cdd0>,\n",
       " 'reviewers': <gensim.models.keyedvectors.Vocab at 0x1a25b8ce10>,\n",
       " 'mentioned': <gensim.models.keyedvectors.Vocab at 0x1a25b8ce50>,\n",
       " 'would': <gensim.models.keyedvectors.Vocab at 0x1a25b8ce90>,\n",
       " 'great': <gensim.models.keyedvectors.Vocab at 0x1a25b8cf10>,\n",
       " 'project': <gensim.models.keyedvectors.Vocab at 0x1a25b8cf90>,\n",
       " 'good': <gensim.models.keyedvectors.Vocab at 0x1a25b8cfd0>,\n",
       " 'live': <gensim.models.keyedvectors.Vocab at 0x1a25b99050>,\n",
       " 'love': <gensim.models.keyedvectors.Vocab at 0x1a25b8ced0>,\n",
       " 'comes': <gensim.models.keyedvectors.Vocab at 0x1a25b8cf50>,\n",
       " 'anything': <gensim.models.keyedvectors.Vocab at 0x1a25b99090>,\n",
       " 'else': <gensim.models.keyedvectors.Vocab at 0x1a25b990d0>,\n",
       " 'world': <gensim.models.keyedvectors.Vocab at 0x1a25b99110>}"
      ]
     },
     "execution_count": 20,
     "metadata": {},
     "output_type": "execute_result"
    }
   ],
   "source": [
    "model.wv.vocab"
   ]
  },
  {
   "cell_type": "markdown",
   "metadata": {},
   "source": [
    "### 2.2 Computing Similarity Matrix\n",
    "\n",
    "As next steps, the similarity matrix can be computed based on the model. This will return the top 10 words within the text most similar to a given word of interest, along with their similarity coefficients."
   ]
  },
  {
   "cell_type": "code",
   "execution_count": 21,
   "metadata": {},
   "outputs": [
    {
     "data": {
      "text/plain": [
       "[('comes', 0.2503284215927124),\n",
       " ('anything', 0.13731548190116882),\n",
       " ('project', 0.1342039704322815),\n",
       " ('love', 0.10042938590049744),\n",
       " ('would', 0.042820677161216736),\n",
       " ('world', 0.01643143780529499),\n",
       " ('mentioned', 0.0029866527765989304),\n",
       " ('good', -0.036723557859659195),\n",
       " ('else', -0.07531142979860306),\n",
       " ('reviewers', -0.08000539243221283)]"
      ]
     },
     "execution_count": 21,
     "metadata": {},
     "output_type": "execute_result"
    }
   ],
   "source": [
    "model.wv.most_similar('one')"
   ]
  },
  {
   "cell_type": "markdown",
   "metadata": {},
   "source": [
    "## 4. t-sne Text Visualization\n",
    "\n",
    "To visualize text data with t-SNE, we use the `yellowbricks` library, which provides useful functions such as `TSNEVisualizer()` and `FreqDistVisualizer()`."
   ]
  },
  {
   "cell_type": "code",
   "execution_count": 30,
   "metadata": {},
   "outputs": [
    {
     "data": {
      "image/png": "[encoded data removed]",
      "text/plain": [
       "<Figure size 432x288 with 1 Axes>"
      ]
     },
     "metadata": {
      "needs_background": "light"
     },
     "output_type": "display_data"
    },
    {
     "data": {
      "text/plain": [
       "<matplotlib.axes._subplots.AxesSubplot at 0x1a29773810>"
      ]
     },
     "execution_count": 30,
     "metadata": {},
     "output_type": "execute_result"
    }
   ],
   "source": [
    "from yellowbrick.text import FreqDistVisualizer, TSNEVisualizer\n",
    "%matplotlib inline\n",
    "\n",
    "features = tf_vectorizer.get_feature_names()\n",
    "freq_visualizer = FreqDistVisualizer(features=features)\n",
    "freq_visualizer.fit(tf);\n",
    "freq_visualizer.poof()"
   ]
  },
  {
   "cell_type": "code",
   "execution_count": 32,
   "metadata": {},
   "outputs": [
    {
     "name": "stderr",
     "output_type": "stream",
     "text": [
      "'c' argument looks like a single numeric RGB or RGBA sequence, which should be avoided as value-mapping will have precedence in case its length matches with 'x' & 'y'.  Please use a 2-D array with a single row if you really want to specify the same RGB or RGBA value for all points.\n"
     ]
    },
    {
     "data": {
      "image/png": "[encoded data removed]",
      "text/plain": [
       "<Figure size 432x288 with 1 Axes>"
      ]
     },
     "metadata": {},
     "output_type": "display_data"
    }
   ],
   "source": [
    "tsne_visualizer = TSNEVisualizer(features=features)\n",
    "tsne_visualizer.fit(tf);\n",
    "tsne_visualizer.poof();"
   ]
  }
 ],
 "metadata": {
  "kernelspec": {
   "display_name": "Python 3",
   "language": "python",
   "name": "python3"
  },
  "language_info": {
   "codemirror_mode": {
    "name": "ipython",
    "version": 3
   },
   "file_extension": ".py",
   "mimetype": "text/x-python",
   "name": "python",
   "nbconvert_exporter": "python",
   "pygments_lexer": "ipython3",
   "version": "3.7.6"
  }
 },
 "nbformat": 4,
 "nbformat_minor": 2
}
